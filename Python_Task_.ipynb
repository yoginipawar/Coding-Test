{
  "nbformat": 4,
  "nbformat_minor": 0,
  "metadata": {
    "colab": {
      "provenance": []
    },
    "kernelspec": {
      "name": "python3",
      "display_name": "Python 3"
    },
    "language_info": {
      "name": "python"
    }
  },
  "cells": [
    {
      "cell_type": "markdown",
      "source": [
        "**1 Write a Python program to read a CSV file and display its contents.**"
      ],
      "metadata": {
        "id": "8CVlW-2Zn0eW"
      }
    },
    {
      "cell_type": "code",
      "execution_count": 3,
      "metadata": {
        "colab": {
          "base_uri": "https://localhost:8080/"
        },
        "id": "YnsEAmYHl-vr",
        "outputId": "33f130a2-d70f-463d-e485-2ffc3bf96246"
      },
      "outputs": [
        {
          "output_type": "stream",
          "name": "stdout",
          "text": [
            "['**The Last Bookstore**']\n",
            "[]\n",
            "['In a world dominated by digital screens', ' there was a bookstore. It was a small', ' unassuming place tucked away on a quiet street. Inside', ' the scent of old paper and ink was a comforting embrace. The shelves were filled with stories', ' worlds waiting to be explored.']\n",
            "[]\n",
            "[\"Elias was the bookstore's keeper. A gentle soul with a passion for words\", ' he spent his days surrounded by the silent company of books. He knew every corner of his store', ' could recommend a book for any mood', ' any taste.']\n",
            "[]\n",
            "['One day', ' a young girl named Anya walked in. She was lost in a world of ones and zeros', ' her eyes glued to her device. Curiosity drew her into the bookstore. As she wandered through the aisles', ' the quiet was a strange', ' unfamiliar comfort. Elias approached her', ' a smile creasing his face.']\n",
            "[]\n",
            "['Lost? he asked', ' his voice soft.']\n",
            "[]\n",
            "['Anya nodded', ' her eyes still on her device. Elias waited patiently. Finally', ' she looked up', ' her gaze meeting his. In that moment', ' something shifted. She saw the warmth in his eyes', ' the love for books reflected in his face.']\n",
            "[]\n",
            "['Slowly', ' she began to explore the shelves. Hours passed as she delved deeper into the world of paper and ink. When she finally emerged', ' a book clutched in her hand', \" her face was alight with a joy Elias hadn't seen in a long time.\"]\n",
            "[]\n",
            "['As Anya turned to leave', ' she paused. \"Thank you', ' she said, her voice barely a whisper.\\n\\nElias smiled. For what?\"']\n",
            "[]\n",
            "[\"For showing me there's a world beyond the screen, she replied.\"]\n",
            "[]\n",
            "['And as she walked out into the digital world', ' a part of her stayed behind', ' in the quiet sanctuary of the last bookstore.']\n",
            "[' ']\n",
            "['*Would you like another story?* ']\n"
          ]
        }
      ],
      "source": [
        "import csv\n",
        "\n",
        "def read_csv_file(filename):\n",
        "  \"\"\"Reads a CSV file and displays its contents.\n",
        "\n",
        "  Args:\n",
        "    filename: The name of the CSV file.\n",
        "  \"\"\"\n",
        "\n",
        "  with open(filename, 'r') as csvfile:\n",
        "    csvreader = csv.reader(csvfile)\n",
        "    for row in csvreader:\n",
        "      print(row)\n",
        "\n",
        "if __name__ == '__main__':\n",
        "  filename = '/content/story.txt'  # Replace with your CSV file name\n",
        "  read_csv_file(filename)\n"
      ]
    },
    {
      "cell_type": "markdown",
      "source": [
        "**2. Write a Python function to reverse a string.**\n"
      ],
      "metadata": {
        "id": "Si6BE0LfnmzH"
      }
    },
    {
      "cell_type": "code",
      "source": [
        "def reverse_string(s):\n",
        "    return s[::-1]\n",
        "\n",
        "# Example usage\n",
        "input_string = \"Hello, World!\"\n",
        "reversed_string = reverse_string(input_string)\n",
        "print(f\"Original string: {input_string}\")\n",
        "print(f\"Reversed string: {reversed_string}\")\n"
      ],
      "metadata": {
        "colab": {
          "base_uri": "https://localhost:8080/"
        },
        "id": "G4VtxB0Amzxe",
        "outputId": "148f79e4-e388-4465-f2e1-c558ae48c048"
      },
      "execution_count": 4,
      "outputs": [
        {
          "output_type": "stream",
          "name": "stdout",
          "text": [
            "Original string: Hello, World!\n",
            "Reversed string: !dlroW ,olleH\n"
          ]
        }
      ]
    },
    {
      "cell_type": "markdown",
      "source": [
        "**3. Write a Python function to count the occurrences of a specific element in a list.**"
      ],
      "metadata": {
        "id": "voLBDR5fngQM"
      }
    },
    {
      "cell_type": "code",
      "source": [
        "def count_occurrences(lst, element):\n",
        "    return lst.count(element)\n",
        "\n",
        "# Example usage\n",
        "input_list = [1, 2, 3, 4, 2, 2, 5, 2, 6, 2]\n",
        "element_to_count = 2\n",
        "occurrences = count_occurrences(input_list, element_to_count)\n",
        "print(f\"Element {element_to_count} occurs {occurrences} times in the list.\")\n"
      ],
      "metadata": {
        "colab": {
          "base_uri": "https://localhost:8080/"
        },
        "id": "WkQAqnRMnRN-",
        "outputId": "724bc511-6505-4fdd-c688-3d98f84306b2"
      },
      "execution_count": 5,
      "outputs": [
        {
          "output_type": "stream",
          "name": "stdout",
          "text": [
            "Element 2 occurs 5 times in the list.\n"
          ]
        }
      ]
    },
    {
      "cell_type": "code",
      "source": [],
      "metadata": {
        "id": "5tMJV33snadj"
      },
      "execution_count": null,
      "outputs": []
    }
  ]
}